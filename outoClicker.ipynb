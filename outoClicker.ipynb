{
 "cells": [
  {
   "cell_type": "code",
   "execution_count": 1,
   "metadata": {},
   "outputs": [],
   "source": [
    "import pyautogui\n",
    "import time"
   ]
  },
  {
   "cell_type": "code",
   "execution_count": 3,
   "metadata": {},
   "outputs": [
    {
     "name": "stderr",
     "output_type": "stream",
     "text": [
      "100%|██████████| 10/10 [00:01<00:00,  9.76it/s]\n"
     ]
    }
   ],
   "source": [
    "import time\n",
    "from tqdm import tqdm\n",
    "\n",
    "for i in tqdm(range(10)):\n",
    "    time.sleep(0.1)"
   ]
  },
  {
   "cell_type": "code",
   "execution_count": 4,
   "metadata": {},
   "outputs": [],
   "source": [
    "# 마우스 포인터를 화면에서 보이도록 설정\n",
    "pyautogui.FAILSAFE = True\n",
    "pyautogui.moveTo(100, 100)\n",
    "# pyautogui.FAILSAFE = False"
   ]
  },
  {
   "cell_type": "code",
   "execution_count": 7,
   "metadata": {},
   "outputs": [],
   "source": [
    "# x, y 좌표로 마우스 이동 후 클릭\n",
    "pyautogui.click(x=100, y=100)\n",
    "\n",
    "# 상대적인 좌표로 마우스 이동 후 클릭\n",
    "pyautogui.move(100, 100)\n",
    "pyautogui.click()"
   ]
  },
  {
   "cell_type": "code",
   "execution_count": 5,
   "metadata": {},
   "outputs": [
    {
     "name": "stdout",
     "output_type": "stream",
     "text": [
      "7초 남았습니다.\n",
      "6초 남았습니다.\n",
      "5초 남았습니다.\n",
      "4초 남았습니다.\n",
      "3초 남았습니다.\n",
      "2초 남았습니다.\n",
      "1초 남았습니다.\n",
      "현재위치(Point(x=817, y=261))로 작업을 시작합니다.\n",
      "총  1000 번 클릭합니다.\n"
     ]
    },
    {
     "name": "stderr",
     "output_type": "stream",
     "text": [
      "100%|██████████| 1000/1000 [01:56<00:00,  8.55it/s]"
     ]
    },
    {
     "name": "stdout",
     "output_type": "stream",
     "text": [
      "완료하였습니다.\n"
     ]
    },
    {
     "name": "stderr",
     "output_type": "stream",
     "text": [
      "\n"
     ]
    }
   ],
   "source": [
    "NumOfTime = 7\n",
    "NumOfClick = 1000\n",
    "cnt = 0\n",
    "for i in range(NumOfTime):\n",
    "    num = NumOfTime-i\n",
    "    print(str(num) + \"초 남았습니다.\")\n",
    "    time.sleep(1)\n",
    "\n",
    "position = pyautogui.position()\n",
    "\n",
    "print(\"현재위치(\" + str(position) + \")로 작업을 시작합니다.\")\n",
    "print(\"총 \", NumOfClick, \"번 클릭합니다.\")\n",
    "\n",
    "\n",
    "for i in tqdm(range(NumOfClick)):\n",
    "    pyautogui.click(position)\n",
    "print(\"완료하였습니다.\") # 5000번 당 약 10분\n"
   ]
  },
  {
   "cell_type": "code",
   "execution_count": 17,
   "metadata": {},
   "outputs": [],
   "source": [
    "# 사고다. 강제종료 버튼이 없고, 중간 브리핑이 없다.\n",
    "# 2023.05.16 update : 중간브리핑 추가"
   ]
  }
 ],
 "metadata": {
  "kernelspec": {
   "display_name": "Python 3",
   "language": "python",
   "name": "python3"
  },
  "language_info": {
   "codemirror_mode": {
    "name": "ipython",
    "version": 3
   },
   "file_extension": ".py",
   "mimetype": "text/x-python",
   "name": "python",
   "nbconvert_exporter": "python",
   "pygments_lexer": "ipython3",
   "version": "3.10.11"
  },
  "orig_nbformat": 4
 },
 "nbformat": 4,
 "nbformat_minor": 2
}
